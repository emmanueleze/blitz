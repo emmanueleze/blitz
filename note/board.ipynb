{
 "cells": [
  {
   "cell_type": "code",
   "execution_count": 1,
   "metadata": {},
   "outputs": [],
   "source": [
    "from typing import List\n",
    "from math import floor\n",
    "\n",
    "\n",
    "def merge_sort(seq_:List, p,q,r):\n",
    "  sl = []\n",
    "  n0 = q - p + 1\n",
    "  n1 = r - q\n",
    "  ln = [None] * (n0+1)\n",
    "  rn = [None] * (n1+1)\n",
    "\n",
    "  for i in range(0, n0):\n",
    "    ln[i] = seq_[p + i]\n",
    "  for i in range(0, n1):\n",
    "    rn[i] = seq_[q+i]\n",
    "  \n",
    "  i = 1\n",
    "  j = 1\n",
    "  \n",
    "  for k in range(p, r-2):\n",
    "    if ln[k] <= rn[k]:\n",
    "      sl.append(ln[k])\n",
    "      i = i+1\n",
    "    else:\n",
    "      sl.append(ln[k])\n",
    "      j = j+1\n",
    "\n",
    "\n",
    "\n",
    "\n"
   ]
  },
  {
   "cell_type": "code",
   "execution_count": 2,
   "metadata": {},
   "outputs": [],
   "source": [
    "list_ = [2,1,4,6,7,8]\n",
    "merge_sort(list_,0,2,5)"
   ]
  },
  {
   "cell_type": "code",
   "execution_count": 3,
   "metadata": {},
   "outputs": [
    {
     "name": "stdout",
     "output_type": "stream",
     "text": [
      "4\n"
     ]
    }
   ],
   "source": [
    "def linear_search(seq_: List, key):\n",
    "  for i in range(0, len(seq_)):\n",
    "    if seq_[i] == key:\n",
    "      return i\n",
    "  return None\n",
    "\n",
    "pos = linear_search(list_, 7)\n",
    "print(pos)\n",
    "\n"
   ]
  },
  {
   "cell_type": "code",
   "execution_count": 4,
   "metadata": {},
   "outputs": [
    {
     "name": "stdout",
     "output_type": "stream",
     "text": [
      "[2, 3]\n"
     ]
    }
   ],
   "source": [
    "from typing import List\n",
    "class Solution:\n",
    "\n",
    "  \n",
    "  def twoSum(array: List[int], target:int) -> List:\n",
    "    sz = len(array)\n",
    "    fidx = 0\n",
    "    bidx = sz - 1\n",
    "    for i in range(0,sz):\n",
    "      if array[fidx] + array[bidx] == target:\n",
    "        return [fidx, bidx]\n",
    "      if array[fidx] + array[bidx] > target:\n",
    "        bidx = bidx - 1 \n",
    "      if array[fidx] + array[bidx] < target:\n",
    "        fidx = fidx  + 1\n",
    "      \n",
    "    return []\n",
    "\n",
    "ar_ = [2,7,11,15]\n",
    "tgt = 26\n",
    "\n",
    "s0 = Solution\n",
    "res = s0.twoSum(ar_, tgt)\n",
    "print(res)"
   ]
  },
  {
   "cell_type": "code",
   "execution_count": 1,
   "metadata": {},
   "outputs": [
    {
     "name": "stdout",
     "output_type": "stream",
     "text": [
      "0.5 0.16666666666666666 0.08333333333333333 0.05 0.03333333333333333 0.023809523809523808 0.017857142857142856 0.013888888888888888 0.011111111111111112 0.00909090909090909 0.007575757575757576 0.00641025641025641 0.005494505494505495 0.004761904761904762 0.004166666666666667 0.003676470588235294 0.0032679738562091504 0.0029239766081871343 0.002631578947368421 0.002380952380952381 "
     ]
    }
   ],
   "source": [
    "for n in range(1,21):\n",
    "  n1 = n+1\n",
    "  print(f\"{1 / (n * n1)}\", end=\" \")\n"
   ]
  },
  {
   "cell_type": "code",
   "execution_count": null,
   "metadata": {},
   "outputs": [],
   "source": []
  }
 ],
 "metadata": {
  "interpreter": {
   "hash": "0f3fd679bf2d10bac427b39ee65756360e147a4d5686c03573c57a0b1af108c3"
  },
  "kernelspec": {
   "display_name": "Python 3.10.1 64-bit ('sigma': venv)",
   "language": "python",
   "name": "python3"
  },
  "language_info": {
   "codemirror_mode": {
    "name": "ipython",
    "version": 3
   },
   "file_extension": ".py",
   "mimetype": "text/x-python",
   "name": "python",
   "nbconvert_exporter": "python",
   "pygments_lexer": "ipython3",
   "version": "3.10.1"
  },
  "orig_nbformat": 4
 },
 "nbformat": 4,
 "nbformat_minor": 2
}
