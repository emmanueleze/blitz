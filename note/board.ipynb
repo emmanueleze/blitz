{
 "cells": [
  {
   "cell_type": "code",
   "execution_count": 1,
   "metadata": {},
   "outputs": [],
   "source": [
    "from typing import List\n",
    "from math import floor\n",
    "\n",
    "\n",
    "def merge_sort(seq_:List, p,q,r):\n",
    "  sl = []\n",
    "  n0 = q - p + 1\n",
    "  n1 = r - q\n",
    "  ln = [None] * (n0+1)\n",
    "  rn = [None] * (n1+1)\n",
    "\n",
    "  for i in range(0, n0):\n",
    "    ln[i] = seq_[p + i]\n",
    "  for i in range(0, n1):\n",
    "    rn[i] = seq_[q+i]\n",
    "  \n",
    "  i = 1\n",
    "  j = 1\n",
    "  \n",
    "  for k in range(p, r-2):\n",
    "    if ln[k] <= rn[k]:\n",
    "      sl.append(ln[k])\n",
    "      i = i+1\n",
    "    else:\n",
    "      sl.append(ln[k])\n",
    "      j = j+1\n",
    "\n",
    "\n",
    "\n",
    "\n"
   ]
  },
  {
   "cell_type": "code",
   "execution_count": 2,
   "metadata": {},
   "outputs": [],
   "source": [
    "list_ = [2,1,4,6,7,8]\n",
    "merge_sort(list_,0,2,5)"
   ]
  },
  {
   "cell_type": "code",
   "execution_count": 3,
   "metadata": {},
   "outputs": [
    {
     "name": "stdout",
     "output_type": "stream",
     "text": [
      "4\n"
     ]
    }
   ],
   "source": [
    "def linear_search(seq_: List, key):\n",
    "  for i in range(0, len(seq_)):\n",
    "    if seq_[i] == key:\n",
    "      return i\n",
    "  return None\n",
    "\n",
    "pos = linear_search(list_, 7)\n",
    "print(pos)\n",
    "\n"
   ]
  },
  {
   "cell_type": "code",
   "execution_count": 4,
   "metadata": {},
   "outputs": [
    {
     "name": "stdout",
     "output_type": "stream",
     "text": [
      "[2, 3]\n"
     ]
    }
   ],
   "source": [
    "from typing import List\n",
    "class Solution:\n",
    "\n",
    "  \n",
    "  def twoSum(array: List[int], target:int) -> List:\n",
    "    sz = len(array)\n",
    "    fidx = 0\n",
    "    bidx = sz - 1\n",
    "    for i in range(0,sz):\n",
    "      if array[fidx] + array[bidx] == target:\n",
    "        return [fidx, bidx]\n",
    "      if array[fidx] + array[bidx] > target:\n",
    "        bidx = bidx - 1 \n",
    "      if array[fidx] + array[bidx] < target:\n",
    "        fidx = fidx  + 1\n",
    "      \n",
    "    return []\n",
    "\n",
    "ar_ = [2,7,11,15]\n",
    "tgt = 26\n",
    "\n",
    "s0 = Solution\n",
    "res = s0.twoSum(ar_, tgt)\n",
    "print(res)"
   ]
  },
  {
   "cell_type": "code",
   "execution_count": 97,
   "metadata": {},
   "outputs": [],
   "source": [
    "class node:\n",
    "  pass\n",
    "\n",
    "class snode(node):\n",
    "  \n",
    "  def __init__(self, data) -> None:\n",
    "    self._data = data\n",
    "    self._next = None\n",
    "\n",
    "class SinglyList:\n",
    "\n",
    "  def __init__(self) -> None:\n",
    "      self.head = None\n",
    "  \n",
    "  def insert(self, _node: snode):\n",
    "    if self.head == None:\n",
    "      self.head = _node\n",
    "    else:\n",
    "      _node._next = self.head\n",
    "      self.head = _node\n",
    "  \n",
    "  def insert_pos(self, _node: snode, pos: int):\n",
    "    tnode = self.head\n",
    "    for i in range(0, pos+1):\n",
    "      if tnode != None:\n",
    "        tnode = tnode._next\n",
    "    \n",
    "    _node._next = tnode._next\n",
    "    tnode._next = _node\n",
    "\n",
    "  def remove(self, pos: int):\n",
    "    tnode = self.head\n",
    "    bnode = tnode\n",
    "    for i in range(0, pos + 1):\n",
    "      if tnode != None:\n",
    "        bnode = tnode\n",
    "        tnode = tnode._next\n",
    "    bnode._next = tnode._next\n",
    "    tnode._next = None\n",
    "      \n",
    "      \n",
    "  def traverse(self):\n",
    "    tnode = self.head\n",
    "    while tnode != None:\n",
    "      print(tnode._data, end=\" \")\n",
    "      tnode = tnode._next\n",
    "    print(\"\")\n",
    "\n",
    "\n",
    "      "
   ]
  },
  {
   "cell_type": "code",
   "execution_count": 98,
   "metadata": {},
   "outputs": [
    {
     "name": "stdout",
     "output_type": "stream",
     "text": [
      "10 9 8 7 6 5 4 256 3 2 1 \n",
      "10 8 7 6 5 4 256 3 2 1 \n"
     ]
    }
   ],
   "source": [
    "_list = SinglyList()\n",
    "\n",
    "for i in range(1, 11):\n",
    "  _list.insert(snode(i))\n",
    "\n",
    "_list.insert_pos(snode(256), 5)\n",
    "_list.traverse()\n",
    "_list.remove(0)\n",
    "_list.traverse()"
   ]
  },
  {
   "cell_type": "code",
   "execution_count": null,
   "metadata": {},
   "outputs": [],
   "source": []
  }
 ],
 "metadata": {
  "interpreter": {
   "hash": "0f3fd679bf2d10bac427b39ee65756360e147a4d5686c03573c57a0b1af108c3"
  },
  "kernelspec": {
   "display_name": "Python 3.10.1 64-bit ('sigma': venv)",
   "language": "python",
   "name": "python3"
  },
  "language_info": {
   "codemirror_mode": {
    "name": "ipython",
    "version": 3
   },
   "file_extension": ".py",
   "mimetype": "text/x-python",
   "name": "python",
   "nbconvert_exporter": "python",
   "pygments_lexer": "ipython3",
   "version": "3.10.1"
  },
  "orig_nbformat": 4
 },
 "nbformat": 4,
 "nbformat_minor": 2
}
